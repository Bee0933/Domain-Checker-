{
 "cells": [
  {
   "cell_type": "markdown",
   "metadata": {},
   "source": [
    "# DOMAIN GENERATION ALGORITHM (DGA) DETECTION "
   ]
  },
  {
   "cell_type": "markdown",
   "metadata": {},
   "source": [
    "This dataset has been collected from Alexa website ranking a blacklist of previous DGA domain names both sources are avaiblable within the provenance section.\n",
    "The purpose is to build a classifier which can help us detect a potential machine infected by the DGA (Domain Generation Algorithm) malware.\n",
    "Typically machines that are infected tend to generate a bunch of random domain names which will contain one active C&C server."
   ]
  },
  {
   "cell_type": "code",
   "execution_count": 60,
   "metadata": {},
   "outputs": [],
   "source": [
    "# Data wrangling and analysis libries\n",
    "import numpy as np \n",
    "import pandas as pd \n",
    "import warnings \n",
    "import matplotlib.pyplot as plt \n",
    "import seaborn as sns\n",
    "from sklearn.model_selection import train_test_split\n",
    "\n",
    "# libraries for preprocessing\n",
    "import pickle\n",
    "import tldextract as xt \n",
    "from nltk.util import ngrams\n",
    "from sklearn.feature_extraction.text import TfidfVectorizer, CountVectorizer\n",
    "from sklearn.preprocessing import LabelEncoder\n",
    "\n",
    "# libraries for ML algorithms\n",
    "from sklearn.linear_model import LogisticRegression\n",
    "from sklearn.ensemble import RandomForestClassifier\n",
    "from sklearn.neural_network import MLPClassifier\n",
    "from sklearn.metrics import accuracy_score, confusion_matrix, ConfusionMatrixDisplay, f1_score, recall_score, f1_score, precision_score\n",
    "\n",
    "# set parameters\n",
    "pd.set_option('display.max_rows', 5)\n",
    "warnings.filterwarnings(action='ignore')\n",
    "%matplotlib inline"
   ]
  },
  {
   "cell_type": "markdown",
   "metadata": {},
   "source": [
    "## Data Gathering"
   ]
  },
  {
   "cell_type": "code",
   "execution_count": 2,
   "metadata": {},
   "outputs": [
    {
     "data": {
      "text/html": [
       "<div>\n",
       "<style scoped>\n",
       "    .dataframe tbody tr th:only-of-type {\n",
       "        vertical-align: middle;\n",
       "    }\n",
       "\n",
       "    .dataframe tbody tr th {\n",
       "        vertical-align: top;\n",
       "    }\n",
       "\n",
       "    .dataframe thead th {\n",
       "        text-align: right;\n",
       "    }\n",
       "</style>\n",
       "<table border=\"1\" class=\"dataframe\">\n",
       "  <thead>\n",
       "    <tr style=\"text-align: right;\">\n",
       "      <th></th>\n",
       "      <th>isDGA</th>\n",
       "      <th>domain</th>\n",
       "      <th>host</th>\n",
       "      <th>subclass</th>\n",
       "    </tr>\n",
       "  </thead>\n",
       "  <tbody>\n",
       "    <tr>\n",
       "      <th>0</th>\n",
       "      <td>dga</td>\n",
       "      <td>6xzxsw3sokvg1tc752y1a6p0af</td>\n",
       "      <td>6xzxsw3sokvg1tc752y1a6p0af.com</td>\n",
       "      <td>gameoverdga</td>\n",
       "    </tr>\n",
       "    <tr>\n",
       "      <th>1</th>\n",
       "      <td>dga</td>\n",
       "      <td>glbtlxwwhbnpxs</td>\n",
       "      <td>glbtlxwwhbnpxs.ru</td>\n",
       "      <td>cryptolocker</td>\n",
       "    </tr>\n",
       "    <tr>\n",
       "      <th>2</th>\n",
       "      <td>dga</td>\n",
       "      <td>xxmamopyipbfpk</td>\n",
       "      <td>xxmamopyipbfpk.ru</td>\n",
       "      <td>cryptolocker</td>\n",
       "    </tr>\n",
       "    <tr>\n",
       "      <th>3</th>\n",
       "      <td>dga</td>\n",
       "      <td>zfd5szpi18i85wj9uy13l69rg</td>\n",
       "      <td>zfd5szpi18i85wj9uy13l69rg.net</td>\n",
       "      <td>newgoz</td>\n",
       "    </tr>\n",
       "    <tr>\n",
       "      <th>4</th>\n",
       "      <td>dga</td>\n",
       "      <td>jpqftymiuver</td>\n",
       "      <td>jpqftymiuver.ru</td>\n",
       "      <td>cryptolocker</td>\n",
       "    </tr>\n",
       "  </tbody>\n",
       "</table>\n",
       "</div>"
      ],
      "text/plain": [
       "  isDGA                      domain                            host  \\\n",
       "0   dga  6xzxsw3sokvg1tc752y1a6p0af  6xzxsw3sokvg1tc752y1a6p0af.com   \n",
       "1   dga              glbtlxwwhbnpxs               glbtlxwwhbnpxs.ru   \n",
       "2   dga              xxmamopyipbfpk               xxmamopyipbfpk.ru   \n",
       "3   dga   zfd5szpi18i85wj9uy13l69rg   zfd5szpi18i85wj9uy13l69rg.net   \n",
       "4   dga                jpqftymiuver                 jpqftymiuver.ru   \n",
       "\n",
       "       subclass  \n",
       "0   gameoverdga  \n",
       "1  cryptolocker  \n",
       "2  cryptolocker  \n",
       "3        newgoz  \n",
       "4  cryptolocker  "
      ]
     },
     "execution_count": 2,
     "metadata": {},
     "output_type": "execute_result"
    }
   ],
   "source": [
    "import os\n",
    "pwd = os.getcwd()\n",
    "data_path = os.path.join(pwd,'dataset/dga_data.csv')  #pth to dataset\n",
    "data = pd.read_csv(data_path)\n",
    "df = data.copy()\n",
    "df.head()"
   ]
  },
  {
   "cell_type": "markdown",
   "metadata": {},
   "source": [
    "## EDA"
   ]
  },
  {
   "cell_type": "code",
   "execution_count": 3,
   "metadata": {},
   "outputs": [
    {
     "name": "stdout",
     "output_type": "stream",
     "text": [
      "The dataset contains 4 features, 160000 instances\n",
      "Feature 1: isDGA\n",
      "Feature 2: domain\n",
      "Feature 3: host\n",
      "Feature 4: subclass\n"
     ]
    }
   ],
   "source": [
    "#get the shape of the entire dataset \n",
    "print(f'The dataset contains {df.shape[1]} features, {df.shape[0]} instances')\n",
    "for columns,count in zip(df.columns, range(1,len(df.columns)+1)):\n",
    "    print(f'Feature {count}: {columns}')"
   ]
  },
  {
   "cell_type": "code",
   "execution_count": 4,
   "metadata": {},
   "outputs": [
    {
     "data": {
      "text/html": [
       "<div>\n",
       "<style scoped>\n",
       "    .dataframe tbody tr th:only-of-type {\n",
       "        vertical-align: middle;\n",
       "    }\n",
       "\n",
       "    .dataframe tbody tr th {\n",
       "        vertical-align: top;\n",
       "    }\n",
       "\n",
       "    .dataframe thead th {\n",
       "        text-align: right;\n",
       "    }\n",
       "</style>\n",
       "<table border=\"1\" class=\"dataframe\">\n",
       "  <thead>\n",
       "    <tr style=\"text-align: right;\">\n",
       "      <th></th>\n",
       "      <th>isDGA</th>\n",
       "      <th>domain</th>\n",
       "      <th>host</th>\n",
       "      <th>subclass</th>\n",
       "    </tr>\n",
       "  </thead>\n",
       "  <tbody>\n",
       "    <tr>\n",
       "      <th>count</th>\n",
       "      <td>160000</td>\n",
       "      <td>159998</td>\n",
       "      <td>160000</td>\n",
       "      <td>160000</td>\n",
       "    </tr>\n",
       "    <tr>\n",
       "      <th>unique</th>\n",
       "      <td>2</td>\n",
       "      <td>159998</td>\n",
       "      <td>159235</td>\n",
       "      <td>9</td>\n",
       "    </tr>\n",
       "    <tr>\n",
       "      <th>top</th>\n",
       "      <td>dga</td>\n",
       "      <td>6xzxsw3sokvg1tc752y1a6p0af</td>\n",
       "      <td>ventures-africa.com</td>\n",
       "      <td>alexa</td>\n",
       "    </tr>\n",
       "    <tr>\n",
       "      <th>freq</th>\n",
       "      <td>80000</td>\n",
       "      <td>1</td>\n",
       "      <td>2</td>\n",
       "      <td>42616</td>\n",
       "    </tr>\n",
       "  </tbody>\n",
       "</table>\n",
       "</div>"
      ],
      "text/plain": [
       "         isDGA                      domain                 host subclass\n",
       "count   160000                      159998               160000   160000\n",
       "unique       2                      159998               159235        9\n",
       "top        dga  6xzxsw3sokvg1tc752y1a6p0af  ventures-africa.com    alexa\n",
       "freq     80000                           1                    2    42616"
      ]
     },
     "execution_count": 4,
     "metadata": {},
     "output_type": "execute_result"
    }
   ],
   "source": [
    "df.describe()"
   ]
  },
  {
   "cell_type": "markdown",
   "metadata": {},
   "source": [
    "Description of features \n",
    "-  The 'isDGA' feature consists of the categorical values representing the binary class with a frequency of 80k for each value of the binary class \n",
    "- The 'domain' column contains unique domain names having a frequency of 1\n",
    "-  The 'host' column contains the complete unique domain names including its prefixes\n",
    "-  The 'subclass' column contains the sub classes names represnting the family of DGA maleware the domain belongs to    "
   ]
  },
  {
   "cell_type": "markdown",
   "metadata": {},
   "source": [
    "Cardinality of unique values"
   ]
  },
  {
   "cell_type": "code",
   "execution_count": 5,
   "metadata": {},
   "outputs": [],
   "source": [
    "categorical_variables = ['isDGA','subclass']\n",
    "descrete_variables = ['domain','host']"
   ]
  },
  {
   "cell_type": "code",
   "execution_count": 6,
   "metadata": {},
   "outputs": [
    {
     "name": "stdout",
     "output_type": "stream",
     "text": [
      "isDGA has 2 unique categories : ['dga' 'legit']\n",
      "subclass has 9 unique categories : ['gameoverdga' 'cryptolocker' 'newgoz' 'nivdort' 'goz' 'necurs' 'bamital'\n",
      " 'legit' 'alexa']\n"
     ]
    },
    {
     "data": {
      "image/png": "[encoded data removed]",
      "text/plain": [
       "<Figure size 864x360 with 2 Axes>"
      ]
     },
     "metadata": {
      "needs_background": "light"
     },
     "output_type": "display_data"
    }
   ],
   "source": [
    "plt.figure(figsize=(12,5))\n",
    "for column, count in zip(categorical_variables, range(1,3)):\n",
    "    plt.subplot(1,2, count)\n",
    "    print(f'{column} has {len(df[column].unique())} unique categories : {df[column].unique()}')\n",
    "    df[column].value_counts().plot.barh()\n",
    "    plt.title(column)\n",
    "    plt.xlabel('count')\n",
    "    plt.ylabel('unique values')\n",
    "    plt.tight_layout()\n",
    "plt.show()"
   ]
  },
  {
   "cell_type": "code",
   "execution_count": 7,
   "metadata": {},
   "outputs": [
    {
     "data": {
      "image/png": "[encoded data removed]",
      "text/plain": [
       "<Figure size 432x288 with 1 Axes>"
      ]
     },
     "metadata": {},
     "output_type": "display_data"
    }
   ],
   "source": [
    "# distribution of count of binary class\n",
    "df['isDGA'].value_counts().plot.pie(autopct='%.1f')\n",
    "plt.show()"
   ]
  },
  {
   "cell_type": "markdown",
   "metadata": {},
   "source": [
    "Find missing valuse for each column in dataset"
   ]
  },
  {
   "cell_type": "code",
   "execution_count": 8,
   "metadata": {},
   "outputs": [
    {
     "name": "stdout",
     "output_type": "stream",
     "text": [
      "The Column - \"domain\" has 0.001% of missing values\n",
      "This will be handled in the feature engineering section\n"
     ]
    }
   ],
   "source": [
    "features_with_na = [features for features in df.columns if df[features].isnull().sum() > 0] #list comprehension to store features with missing values \n",
    "for feature in features_with_na:\n",
    "    print(f'The Column - \"{feature}\" has {np.round((df[feature].isnull().mean())*100, 3)}% of missing values') #print % of missing values \n",
    "print('This will be handled in the feature engineering section')"
   ]
  },
  {
   "cell_type": "markdown",
   "metadata": {},
   "source": [
    "group and compare the binary domain class with the subclass"
   ]
  },
  {
   "cell_type": "code",
   "execution_count": 9,
   "metadata": {},
   "outputs": [
    {
     "data": {
      "image/png": "[encoded data removed]",
      "text/plain": [
       "<Figure size 778.125x288 with 1 Axes>"
      ]
     },
     "metadata": {
      "needs_background": "light"
     },
     "output_type": "display_data"
    }
   ],
   "source": [
    "df1 = df.copy()\n",
    "sns.catplot(hue='isDGA', x='subclass',\n",
    "            data=df1, kind='count', palette='inferno', height=4.0, aspect=2.5, orient=\"v\")\n",
    "plt.tight_layout()\n",
    "plt.title('Relationship between subclass and binary class')\n",
    "plt.show()"
   ]
  },
  {
   "cell_type": "code",
   "execution_count": 10,
   "metadata": {},
   "outputs": [
    {
     "data": {
      "text/html": [
       "<div>\n",
       "<style scoped>\n",
       "    .dataframe tbody tr th:only-of-type {\n",
       "        vertical-align: middle;\n",
       "    }\n",
       "\n",
       "    .dataframe tbody tr th {\n",
       "        vertical-align: top;\n",
       "    }\n",
       "\n",
       "    .dataframe thead th {\n",
       "        text-align: right;\n",
       "    }\n",
       "</style>\n",
       "<table border=\"1\" class=\"dataframe\">\n",
       "  <thead>\n",
       "    <tr style=\"text-align: right;\">\n",
       "      <th></th>\n",
       "      <th>isDGA</th>\n",
       "      <th>domain</th>\n",
       "      <th>host</th>\n",
       "      <th>subclass</th>\n",
       "    </tr>\n",
       "  </thead>\n",
       "  <tbody>\n",
       "    <tr>\n",
       "      <th>0</th>\n",
       "      <td>dga</td>\n",
       "      <td>6xzxsw3sokvg1tc752y1a6p0af</td>\n",
       "      <td>6xzxsw3sokvg1tc752y1a6p0af.com</td>\n",
       "      <td>gameoverdga</td>\n",
       "    </tr>\n",
       "    <tr>\n",
       "      <th>18</th>\n",
       "      <td>dga</td>\n",
       "      <td>1rw1pc44mkxp4qjx18qua26</td>\n",
       "      <td>1rw1pc44mkxp4qjx18qua26.net</td>\n",
       "      <td>gameoverdga</td>\n",
       "    </tr>\n",
       "    <tr>\n",
       "      <th>21</th>\n",
       "      <td>dga</td>\n",
       "      <td>1x75xo41t4fno51wc86e1y4s13d</td>\n",
       "      <td>1x75xo41t4fno51wc86e1y4s13d.net</td>\n",
       "      <td>gameoverdga</td>\n",
       "    </tr>\n",
       "    <tr>\n",
       "      <th>23</th>\n",
       "      <td>dga</td>\n",
       "      <td>1y6oppp7k3pwfpo2sfmkloyxa</td>\n",
       "      <td>1y6oppp7k3pwfpo2sfmkloyxa.biz</td>\n",
       "      <td>gameoverdga</td>\n",
       "    </tr>\n",
       "  </tbody>\n",
       "</table>\n",
       "</div>"
      ],
      "text/plain": [
       "   isDGA                       domain                             host  \\\n",
       "0    dga   6xzxsw3sokvg1tc752y1a6p0af   6xzxsw3sokvg1tc752y1a6p0af.com   \n",
       "18   dga      1rw1pc44mkxp4qjx18qua26      1rw1pc44mkxp4qjx18qua26.net   \n",
       "21   dga  1x75xo41t4fno51wc86e1y4s13d  1x75xo41t4fno51wc86e1y4s13d.net   \n",
       "23   dga    1y6oppp7k3pwfpo2sfmkloyxa    1y6oppp7k3pwfpo2sfmkloyxa.biz   \n",
       "\n",
       "       subclass  \n",
       "0   gameoverdga  \n",
       "18  gameoverdga  \n",
       "21  gameoverdga  \n",
       "23  gameoverdga  "
      ]
     },
     "metadata": {},
     "output_type": "display_data"
    },
    {
     "data": {
      "text/html": [
       "<div>\n",
       "<style scoped>\n",
       "    .dataframe tbody tr th:only-of-type {\n",
       "        vertical-align: middle;\n",
       "    }\n",
       "\n",
       "    .dataframe tbody tr th {\n",
       "        vertical-align: top;\n",
       "    }\n",
       "\n",
       "    .dataframe thead th {\n",
       "        text-align: right;\n",
       "    }\n",
       "</style>\n",
       "<table border=\"1\" class=\"dataframe\">\n",
       "  <thead>\n",
       "    <tr style=\"text-align: right;\">\n",
       "      <th></th>\n",
       "      <th>isDGA</th>\n",
       "      <th>domain</th>\n",
       "      <th>host</th>\n",
       "      <th>subclass</th>\n",
       "    </tr>\n",
       "  </thead>\n",
       "  <tbody>\n",
       "    <tr>\n",
       "      <th>1</th>\n",
       "      <td>dga</td>\n",
       "      <td>glbtlxwwhbnpxs</td>\n",
       "      <td>glbtlxwwhbnpxs.ru</td>\n",
       "      <td>cryptolocker</td>\n",
       "    </tr>\n",
       "    <tr>\n",
       "      <th>2</th>\n",
       "      <td>dga</td>\n",
       "      <td>xxmamopyipbfpk</td>\n",
       "      <td>xxmamopyipbfpk.ru</td>\n",
       "      <td>cryptolocker</td>\n",
       "    </tr>\n",
       "    <tr>\n",
       "      <th>4</th>\n",
       "      <td>dga</td>\n",
       "      <td>jpqftymiuver</td>\n",
       "      <td>jpqftymiuver.ru</td>\n",
       "      <td>cryptolocker</td>\n",
       "    </tr>\n",
       "    <tr>\n",
       "      <th>6</th>\n",
       "      <td>dga</td>\n",
       "      <td>vrrtneoswsds</td>\n",
       "      <td>vrrtneoswsds.ru</td>\n",
       "      <td>cryptolocker</td>\n",
       "    </tr>\n",
       "  </tbody>\n",
       "</table>\n",
       "</div>"
      ],
      "text/plain": [
       "  isDGA          domain               host      subclass\n",
       "1   dga  glbtlxwwhbnpxs  glbtlxwwhbnpxs.ru  cryptolocker\n",
       "2   dga  xxmamopyipbfpk  xxmamopyipbfpk.ru  cryptolocker\n",
       "4   dga    jpqftymiuver    jpqftymiuver.ru  cryptolocker\n",
       "6   dga    vrrtneoswsds    vrrtneoswsds.ru  cryptolocker"
      ]
     },
     "metadata": {},
     "output_type": "display_data"
    },
    {
     "data": {
      "text/html": [
       "<div>\n",
       "<style scoped>\n",
       "    .dataframe tbody tr th:only-of-type {\n",
       "        vertical-align: middle;\n",
       "    }\n",
       "\n",
       "    .dataframe tbody tr th {\n",
       "        vertical-align: top;\n",
       "    }\n",
       "\n",
       "    .dataframe thead th {\n",
       "        text-align: right;\n",
       "    }\n",
       "</style>\n",
       "<table border=\"1\" class=\"dataframe\">\n",
       "  <thead>\n",
       "    <tr style=\"text-align: right;\">\n",
       "      <th></th>\n",
       "      <th>isDGA</th>\n",
       "      <th>domain</th>\n",
       "      <th>host</th>\n",
       "      <th>subclass</th>\n",
       "    </tr>\n",
       "  </thead>\n",
       "  <tbody>\n",
       "    <tr>\n",
       "      <th>3</th>\n",
       "      <td>dga</td>\n",
       "      <td>zfd5szpi18i85wj9uy13l69rg</td>\n",
       "      <td>zfd5szpi18i85wj9uy13l69rg.net</td>\n",
       "      <td>newgoz</td>\n",
       "    </tr>\n",
       "    <tr>\n",
       "      <th>7</th>\n",
       "      <td>dga</td>\n",
       "      <td>mzapiwbcsbqiyxnlxa1hprx8n</td>\n",
       "      <td>mzapiwbcsbqiyxnlxa1hprx8n.com</td>\n",
       "      <td>newgoz</td>\n",
       "    </tr>\n",
       "    <tr>\n",
       "      <th>17</th>\n",
       "      <td>dga</td>\n",
       "      <td>n3m4txqpb6a415iwzkrmdzgk6</td>\n",
       "      <td>n3m4txqpb6a415iwzkrmdzgk6.com</td>\n",
       "      <td>newgoz</td>\n",
       "    </tr>\n",
       "    <tr>\n",
       "      <th>37</th>\n",
       "      <td>dga</td>\n",
       "      <td>wawft814u5se21tmptb51yy47q2</td>\n",
       "      <td>wawft814u5se21tmptb51yy47q2.org</td>\n",
       "      <td>newgoz</td>\n",
       "    </tr>\n",
       "  </tbody>\n",
       "</table>\n",
       "</div>"
      ],
      "text/plain": [
       "   isDGA                       domain                             host  \\\n",
       "3    dga    zfd5szpi18i85wj9uy13l69rg    zfd5szpi18i85wj9uy13l69rg.net   \n",
       "7    dga    mzapiwbcsbqiyxnlxa1hprx8n    mzapiwbcsbqiyxnlxa1hprx8n.com   \n",
       "17   dga    n3m4txqpb6a415iwzkrmdzgk6    n3m4txqpb6a415iwzkrmdzgk6.com   \n",
       "37   dga  wawft814u5se21tmptb51yy47q2  wawft814u5se21tmptb51yy47q2.org   \n",
       "\n",
       "   subclass  \n",
       "3    newgoz  \n",
       "7    newgoz  \n",
       "17   newgoz  \n",
       "37   newgoz  "
      ]
     },
     "metadata": {},
     "output_type": "display_data"
    },
    {
     "data": {
      "text/html": [
       "<div>\n",
       "<style scoped>\n",
       "    .dataframe tbody tr th:only-of-type {\n",
       "        vertical-align: middle;\n",
       "    }\n",
       "\n",
       "    .dataframe tbody tr th {\n",
       "        vertical-align: top;\n",
       "    }\n",
       "\n",
       "    .dataframe thead th {\n",
       "        text-align: right;\n",
       "    }\n",
       "</style>\n",
       "<table border=\"1\" class=\"dataframe\">\n",
       "  <thead>\n",
       "    <tr style=\"text-align: right;\">\n",
       "      <th></th>\n",
       "      <th>isDGA</th>\n",
       "      <th>domain</th>\n",
       "      <th>host</th>\n",
       "      <th>subclass</th>\n",
       "    </tr>\n",
       "  </thead>\n",
       "  <tbody>\n",
       "    <tr>\n",
       "      <th>5</th>\n",
       "      <td>dga</td>\n",
       "      <td>takenroll</td>\n",
       "      <td>takenroll.net</td>\n",
       "      <td>nivdort</td>\n",
       "    </tr>\n",
       "    <tr>\n",
       "      <th>9</th>\n",
       "      <td>dga</td>\n",
       "      <td>dreamdont</td>\n",
       "      <td>dreamdont.net</td>\n",
       "      <td>nivdort</td>\n",
       "    </tr>\n",
       "    <tr>\n",
       "      <th>10</th>\n",
       "      <td>dga</td>\n",
       "      <td>visitshot</td>\n",
       "      <td>visitshot.net</td>\n",
       "      <td>nivdort</td>\n",
       "    </tr>\n",
       "    <tr>\n",
       "      <th>22</th>\n",
       "      <td>dga</td>\n",
       "      <td>mostjune</td>\n",
       "      <td>mostjune.net</td>\n",
       "      <td>nivdort</td>\n",
       "    </tr>\n",
       "  </tbody>\n",
       "</table>\n",
       "</div>"
      ],
      "text/plain": [
       "   isDGA     domain           host subclass\n",
       "5    dga  takenroll  takenroll.net  nivdort\n",
       "9    dga  dreamdont  dreamdont.net  nivdort\n",
       "10   dga  visitshot  visitshot.net  nivdort\n",
       "22   dga   mostjune   mostjune.net  nivdort"
      ]
     },
     "metadata": {},
     "output_type": "display_data"
    },
    {
     "data": {
      "text/html": [
       "<div>\n",
       "<style scoped>\n",
       "    .dataframe tbody tr th:only-of-type {\n",
       "        vertical-align: middle;\n",
       "    }\n",
       "\n",
       "    .dataframe tbody tr th {\n",
       "        vertical-align: top;\n",
       "    }\n",
       "\n",
       "    .dataframe thead th {\n",
       "        text-align: right;\n",
       "    }\n",
       "</style>\n",
       "<table border=\"1\" class=\"dataframe\">\n",
       "  <thead>\n",
       "    <tr style=\"text-align: right;\">\n",
       "      <th></th>\n",
       "      <th>isDGA</th>\n",
       "      <th>domain</th>\n",
       "      <th>host</th>\n",
       "      <th>subclass</th>\n",
       "    </tr>\n",
       "  </thead>\n",
       "  <tbody>\n",
       "    <tr>\n",
       "      <th>13</th>\n",
       "      <td>dga</td>\n",
       "      <td>rcdqeqmpxgdiuqombhuwcfu</td>\n",
       "      <td>rcdqeqmpxgdiuqombhuwcfu.ru</td>\n",
       "      <td>goz</td>\n",
       "    </tr>\n",
       "    <tr>\n",
       "      <th>52</th>\n",
       "      <td>dga</td>\n",
       "      <td>jrxrovxkbemgqutopblbbfe</td>\n",
       "      <td>jrxrovxkbemgqutopblbbfe.ru</td>\n",
       "      <td>goz</td>\n",
       "    </tr>\n",
       "    <tr>\n",
       "      <th>55</th>\n",
       "      <td>dga</td>\n",
       "      <td>dixnzhelzukwsojfxuivlamadu</td>\n",
       "      <td>dixnzhelzukwsojfxuivlamadu.ru</td>\n",
       "      <td>goz</td>\n",
       "    </tr>\n",
       "    <tr>\n",
       "      <th>84</th>\n",
       "      <td>dga</td>\n",
       "      <td>ydhmbyhgypnkdpzcymnnjxcalfm</td>\n",
       "      <td>ydhmbyhgypnkdpzcymnnjxcalfm.ru</td>\n",
       "      <td>goz</td>\n",
       "    </tr>\n",
       "  </tbody>\n",
       "</table>\n",
       "</div>"
      ],
      "text/plain": [
       "   isDGA                       domain                            host subclass\n",
       "13   dga      rcdqeqmpxgdiuqombhuwcfu      rcdqeqmpxgdiuqombhuwcfu.ru      goz\n",
       "52   dga      jrxrovxkbemgqutopblbbfe      jrxrovxkbemgqutopblbbfe.ru      goz\n",
       "55   dga   dixnzhelzukwsojfxuivlamadu   dixnzhelzukwsojfxuivlamadu.ru      goz\n",
       "84   dga  ydhmbyhgypnkdpzcymnnjxcalfm  ydhmbyhgypnkdpzcymnnjxcalfm.ru      goz"
      ]
     },
     "metadata": {},
     "output_type": "display_data"
    },
    {
     "data": {
      "text/html": [
       "<div>\n",
       "<style scoped>\n",
       "    .dataframe tbody tr th:only-of-type {\n",
       "        vertical-align: middle;\n",
       "    }\n",
       "\n",
       "    .dataframe tbody tr th {\n",
       "        vertical-align: top;\n",
       "    }\n",
       "\n",
       "    .dataframe thead th {\n",
       "        text-align: right;\n",
       "    }\n",
       "</style>\n",
       "<table border=\"1\" class=\"dataframe\">\n",
       "  <thead>\n",
       "    <tr style=\"text-align: right;\">\n",
       "      <th></th>\n",
       "      <th>isDGA</th>\n",
       "      <th>domain</th>\n",
       "      <th>host</th>\n",
       "      <th>subclass</th>\n",
       "    </tr>\n",
       "  </thead>\n",
       "  <tbody>\n",
       "    <tr>\n",
       "      <th>27</th>\n",
       "      <td>dga</td>\n",
       "      <td>sfmbdpnijlarq</td>\n",
       "      <td>sfmbdpnijlarq.cc</td>\n",
       "      <td>necurs</td>\n",
       "    </tr>\n",
       "    <tr>\n",
       "      <th>28</th>\n",
       "      <td>dga</td>\n",
       "      <td>vdqqfdcax</td>\n",
       "      <td>vdqqfdcax.im</td>\n",
       "      <td>necurs</td>\n",
       "    </tr>\n",
       "    <tr>\n",
       "      <th>33</th>\n",
       "      <td>dga</td>\n",
       "      <td>njtvrfhfaklho</td>\n",
       "      <td>njtvrfhfaklho.sc</td>\n",
       "      <td>necurs</td>\n",
       "    </tr>\n",
       "    <tr>\n",
       "      <th>53</th>\n",
       "      <td>dga</td>\n",
       "      <td>hsmcnwof</td>\n",
       "      <td>hsmcnwof.mx</td>\n",
       "      <td>necurs</td>\n",
       "    </tr>\n",
       "  </tbody>\n",
       "</table>\n",
       "</div>"
      ],
      "text/plain": [
       "   isDGA         domain              host subclass\n",
       "27   dga  sfmbdpnijlarq  sfmbdpnijlarq.cc   necurs\n",
       "28   dga      vdqqfdcax      vdqqfdcax.im   necurs\n",
       "33   dga  njtvrfhfaklho  njtvrfhfaklho.sc   necurs\n",
       "53   dga       hsmcnwof       hsmcnwof.mx   necurs"
      ]
     },
     "metadata": {},
     "output_type": "display_data"
    },
    {
     "data": {
      "text/html": [
       "<div>\n",
       "<style scoped>\n",
       "    .dataframe tbody tr th:only-of-type {\n",
       "        vertical-align: middle;\n",
       "    }\n",
       "\n",
       "    .dataframe tbody tr th {\n",
       "        vertical-align: top;\n",
       "    }\n",
       "\n",
       "    .dataframe thead th {\n",
       "        text-align: right;\n",
       "    }\n",
       "</style>\n",
       "<table border=\"1\" class=\"dataframe\">\n",
       "  <thead>\n",
       "    <tr style=\"text-align: right;\">\n",
       "      <th></th>\n",
       "      <th>isDGA</th>\n",
       "      <th>domain</th>\n",
       "      <th>host</th>\n",
       "      <th>subclass</th>\n",
       "    </tr>\n",
       "  </thead>\n",
       "  <tbody>\n",
       "    <tr>\n",
       "      <th>259</th>\n",
       "      <td>dga</td>\n",
       "      <td>5df9d44072820ad6eaac91669f357fea</td>\n",
       "      <td>5df9d44072820ad6eaac91669f357fea.org</td>\n",
       "      <td>bamital</td>\n",
       "    </tr>\n",
       "    <tr>\n",
       "      <th>322</th>\n",
       "      <td>dga</td>\n",
       "      <td>a7fd378e8e64200f13421e6135a06dce</td>\n",
       "      <td>a7fd378e8e64200f13421e6135a06dce.org</td>\n",
       "      <td>bamital</td>\n",
       "    </tr>\n",
       "    <tr>\n",
       "      <th>358</th>\n",
       "      <td>dga</td>\n",
       "      <td>dd82f8a0b2b6520e2706f704ba2a289a</td>\n",
       "      <td>dd82f8a0b2b6520e2706f704ba2a289a.org</td>\n",
       "      <td>bamital</td>\n",
       "    </tr>\n",
       "    <tr>\n",
       "      <th>414</th>\n",
       "      <td>dga</td>\n",
       "      <td>08c9bb43ca6555de477ec262b078cb91</td>\n",
       "      <td>08c9bb43ca6555de477ec262b078cb91.org</td>\n",
       "      <td>bamital</td>\n",
       "    </tr>\n",
       "  </tbody>\n",
       "</table>\n",
       "</div>"
      ],
      "text/plain": [
       "    isDGA                            domain  \\\n",
       "259   dga  5df9d44072820ad6eaac91669f357fea   \n",
       "322   dga  a7fd378e8e64200f13421e6135a06dce   \n",
       "358   dga  dd82f8a0b2b6520e2706f704ba2a289a   \n",
       "414   dga  08c9bb43ca6555de477ec262b078cb91   \n",
       "\n",
       "                                     host subclass  \n",
       "259  5df9d44072820ad6eaac91669f357fea.org  bamital  \n",
       "322  a7fd378e8e64200f13421e6135a06dce.org  bamital  \n",
       "358  dd82f8a0b2b6520e2706f704ba2a289a.org  bamital  \n",
       "414  08c9bb43ca6555de477ec262b078cb91.org  bamital  "
      ]
     },
     "metadata": {},
     "output_type": "display_data"
    },
    {
     "data": {
      "text/html": [
       "<div>\n",
       "<style scoped>\n",
       "    .dataframe tbody tr th:only-of-type {\n",
       "        vertical-align: middle;\n",
       "    }\n",
       "\n",
       "    .dataframe tbody tr th {\n",
       "        vertical-align: top;\n",
       "    }\n",
       "\n",
       "    .dataframe thead th {\n",
       "        text-align: right;\n",
       "    }\n",
       "</style>\n",
       "<table border=\"1\" class=\"dataframe\">\n",
       "  <thead>\n",
       "    <tr style=\"text-align: right;\">\n",
       "      <th></th>\n",
       "      <th>isDGA</th>\n",
       "      <th>domain</th>\n",
       "      <th>host</th>\n",
       "      <th>subclass</th>\n",
       "    </tr>\n",
       "  </thead>\n",
       "  <tbody>\n",
       "    <tr>\n",
       "      <th>80000</th>\n",
       "      <td>legit</td>\n",
       "      <td>zige365</td>\n",
       "      <td>zige365.com</td>\n",
       "      <td>legit</td>\n",
       "    </tr>\n",
       "    <tr>\n",
       "      <th>80001</th>\n",
       "      <td>legit</td>\n",
       "      <td>sportswiki</td>\n",
       "      <td>sportswiki.ru</td>\n",
       "      <td>legit</td>\n",
       "    </tr>\n",
       "    <tr>\n",
       "      <th>80003</th>\n",
       "      <td>legit</td>\n",
       "      <td>meuslinks</td>\n",
       "      <td>meuslinks.com</td>\n",
       "      <td>legit</td>\n",
       "    </tr>\n",
       "    <tr>\n",
       "      <th>80004</th>\n",
       "      <td>legit</td>\n",
       "      <td>atskype</td>\n",
       "      <td>atskype.jp</td>\n",
       "      <td>legit</td>\n",
       "    </tr>\n",
       "  </tbody>\n",
       "</table>\n",
       "</div>"
      ],
      "text/plain": [
       "       isDGA      domain           host subclass\n",
       "80000  legit     zige365    zige365.com    legit\n",
       "80001  legit  sportswiki  sportswiki.ru    legit\n",
       "80003  legit   meuslinks  meuslinks.com    legit\n",
       "80004  legit     atskype     atskype.jp    legit"
      ]
     },
     "metadata": {},
     "output_type": "display_data"
    },
    {
     "data": {
      "text/html": [
       "<div>\n",
       "<style scoped>\n",
       "    .dataframe tbody tr th:only-of-type {\n",
       "        vertical-align: middle;\n",
       "    }\n",
       "\n",
       "    .dataframe tbody tr th {\n",
       "        vertical-align: top;\n",
       "    }\n",
       "\n",
       "    .dataframe thead th {\n",
       "        text-align: right;\n",
       "    }\n",
       "</style>\n",
       "<table border=\"1\" class=\"dataframe\">\n",
       "  <thead>\n",
       "    <tr style=\"text-align: right;\">\n",
       "      <th></th>\n",
       "      <th>isDGA</th>\n",
       "      <th>domain</th>\n",
       "      <th>host</th>\n",
       "      <th>subclass</th>\n",
       "    </tr>\n",
       "  </thead>\n",
       "  <tbody>\n",
       "    <tr>\n",
       "      <th>80002</th>\n",
       "      <td>legit</td>\n",
       "      <td>clutchfans</td>\n",
       "      <td>clutchfans.net</td>\n",
       "      <td>alexa</td>\n",
       "    </tr>\n",
       "    <tr>\n",
       "      <th>80005</th>\n",
       "      <td>legit</td>\n",
       "      <td>marykayintouch</td>\n",
       "      <td>marykayintouch.com</td>\n",
       "      <td>alexa</td>\n",
       "    </tr>\n",
       "    <tr>\n",
       "      <th>80006</th>\n",
       "      <td>legit</td>\n",
       "      <td>droid</td>\n",
       "      <td>droid-life.com</td>\n",
       "      <td>alexa</td>\n",
       "    </tr>\n",
       "    <tr>\n",
       "      <th>80007</th>\n",
       "      <td>legit</td>\n",
       "      <td>polimi</td>\n",
       "      <td>polimi.it</td>\n",
       "      <td>alexa</td>\n",
       "    </tr>\n",
       "  </tbody>\n",
       "</table>\n",
       "</div>"
      ],
      "text/plain": [
       "       isDGA          domain                host subclass\n",
       "80002  legit      clutchfans      clutchfans.net    alexa\n",
       "80005  legit  marykayintouch  marykayintouch.com    alexa\n",
       "80006  legit           droid      droid-life.com    alexa\n",
       "80007  legit          polimi           polimi.it    alexa"
      ]
     },
     "metadata": {},
     "output_type": "display_data"
    }
   ],
   "source": [
    "# unique domain classes - 9\n",
    "domain_classes = ['gameoverdga', 'cryptolocker', 'newgoz', 'nivdort', 'goz',\n",
    "       'necurs', 'bamital', 'legit', 'alexa']\n",
    "\n",
    "# create dataframe of two samples of data based on maleware family to find relationhips  \n",
    "container = [] \n",
    "for domain_type in domain_classes:\n",
    "    res = df[df['subclass'] == f'{domain_type}'].iloc[:4,:]\n",
    "    display(res) # display dataframe"
   ]
  },
  {
   "cell_type": "markdown",
   "metadata": {},
   "source": [
    "From the exploring the dataset and making analysis, the following was observed; \n",
    "- The 'isDGA' column has unique binary class values of 'dga' & 'legit' which has a balanced distribution for training purpose\n",
    "- The 'subclass' column has multiple classes but pocesses an unbalanced distribution which is not fit for training purposes - [this will be handled in feature engineering section]\n",
    "- The 0.001% amount of null/missing values in the dataset is quite insignificant as it will not have much impact if eleiminated from the dataset with reference to the original size of the dataset\n",
    "- Relating the binary class and the subclasses together shows that the 'alexa' & 'legit' subclasses are categorized under the 'legit' class while the rest of the subclasses fall under the DGA maleware family "
   ]
  },
  {
   "cell_type": "markdown",
   "metadata": {},
   "source": [
    "## FEATURE ENGINEERING & FEATURE SELECTION FOR BINARY CLASS - legit | dga"
   ]
  },
  {
   "cell_type": "markdown",
   "metadata": {},
   "source": [
    "Handle 0.001% null values "
   ]
  },
  {
   "cell_type": "code",
   "execution_count": 11,
   "metadata": {},
   "outputs": [
    {
     "data": {
      "text/html": [
       "<div>\n",
       "<style scoped>\n",
       "    .dataframe tbody tr th:only-of-type {\n",
       "        vertical-align: middle;\n",
       "    }\n",
       "\n",
       "    .dataframe tbody tr th {\n",
       "        vertical-align: top;\n",
       "    }\n",
       "\n",
       "    .dataframe thead th {\n",
       "        text-align: right;\n",
       "    }\n",
       "</style>\n",
       "<table border=\"1\" class=\"dataframe\">\n",
       "  <thead>\n",
       "    <tr style=\"text-align: right;\">\n",
       "      <th></th>\n",
       "      <th>isDGA</th>\n",
       "      <th>domain</th>\n",
       "      <th>host</th>\n",
       "      <th>subclass</th>\n",
       "    </tr>\n",
       "  </thead>\n",
       "  <tbody>\n",
       "    <tr>\n",
       "      <th>count</th>\n",
       "      <td>159998</td>\n",
       "      <td>159998</td>\n",
       "      <td>159998</td>\n",
       "      <td>159998</td>\n",
       "    </tr>\n",
       "    <tr>\n",
       "      <th>unique</th>\n",
       "      <td>2</td>\n",
       "      <td>159998</td>\n",
       "      <td>159234</td>\n",
       "      <td>9</td>\n",
       "    </tr>\n",
       "    <tr>\n",
       "      <th>top</th>\n",
       "      <td>dga</td>\n",
       "      <td>6xzxsw3sokvg1tc752y1a6p0af</td>\n",
       "      <td>constant-content.com</td>\n",
       "      <td>alexa</td>\n",
       "    </tr>\n",
       "    <tr>\n",
       "      <th>freq</th>\n",
       "      <td>80000</td>\n",
       "      <td>1</td>\n",
       "      <td>2</td>\n",
       "      <td>42614</td>\n",
       "    </tr>\n",
       "  </tbody>\n",
       "</table>\n",
       "</div>"
      ],
      "text/plain": [
       "         isDGA                      domain                  host subclass\n",
       "count   159998                      159998                159998   159998\n",
       "unique       2                      159998                159234        9\n",
       "top        dga  6xzxsw3sokvg1tc752y1a6p0af  constant-content.com    alexa\n",
       "freq     80000                           1                     2    42614"
      ]
     },
     "execution_count": 11,
     "metadata": {},
     "output_type": "execute_result"
    }
   ],
   "source": [
    "df = df.dropna(axis=0)\n",
    "df.describe()"
   ]
  },
  {
   "cell_type": "code",
   "execution_count": 41,
   "metadata": {},
   "outputs": [],
   "source": [
    "# preprocessing helper functions\n",
    "\n",
    "# containers to keep track of encoded values\n",
    "mapping = list() \n",
    "mapping_test = list()\n",
    "\n",
    "mapping_multi = list() \n",
    "mapping_multi_test = list()\n",
    "\n",
    "# function to encode target varibles\n",
    "def encode_feature(data, map):\n",
    "    le = LabelEncoder()\n",
    "    features = le.fit_transform(data)\n",
    "    mappings_dict = {index: label for index, label in enumerate(le.classes_)}\n",
    "    map.append(mappings_dict)\n",
    "    return features\n",
    "\n",
    "# helper function\n",
    "def join_char(s):\n",
    "    str1 = ''\n",
    "    return(str1.join(s))\n",
    "\n",
    "# function to perform n_grams on input string \n",
    "def n_gram_extraction(n, token):\n",
    "    lst = []\n",
    "    n_grams = ngrams(list(str(token)), n)\n",
    "    for items in n_grams:\n",
    "        res = join_char(list(items))\n",
    "        \n",
    "        lst.append(res)\n",
    "    return lst\n",
    "\n",
    "# function to tokenize input url and extract values to form unigrams, bigrams & trigrams \n",
    "def tokenizer(url):\n",
    "    # break url to domain, subdomain & suffix \n",
    "\n",
    "    # full url token - domain + subdomain + suffix\n",
    "    url_token = f'{url}-{xt.extract(url).subdomain}-{xt.extract(url).domain}-{xt.extract(url).suffix}'\n",
    "    \n",
    "    # url to unigram level\n",
    "    domain_unigram = n_gram_extraction(1,xt.extract(url).domain)\n",
    "    subdomain_unigram = n_gram_extraction(1,xt.extract(url).subdomain)\n",
    "\n",
    "    # url to bigram level\n",
    "    domain_bigram = n_gram_extraction(2,xt.extract(url).domain)\n",
    "    subdomain_bigram = n_gram_extraction(2,xt.extract(url).subdomain)\n",
    "\n",
    "    # url to trigram level\n",
    "    domain_trigram = n_gram_extraction(3,xt.extract(url).domain)\n",
    "    subdomain_trigram = n_gram_extraction(3,xt.extract(url).subdomain)\n",
    "    token = url_token.split('-')\n",
    "    if '' in token:\n",
    "        token.remove('') # remove empty element in list\n",
    "    \n",
    "    # append final exteacted tokens to list to form extracted features\n",
    "    for item in domain_unigram:\n",
    "        token.append(item)\n",
    "    for item in subdomain_unigram:\n",
    "        token.append(item)\n",
    "\n",
    "    for item in domain_bigram:\n",
    "        token.append(item)\n",
    "    for item in domain_trigram:\n",
    "        token.append(item)\n",
    "\n",
    "    for item in subdomain_bigram:\n",
    "        token.append(item)\n",
    "    for item in subdomain_trigram:\n",
    "        token.append(item)\n",
    "\n",
    "    # print(token)\n",
    "\n",
    "    return token"
   ]
  },
  {
   "cell_type": "code",
   "execution_count": 13,
   "metadata": {},
   "outputs": [
    {
     "data": {
      "text/html": [
       "<div>\n",
       "<style scoped>\n",
       "    .dataframe tbody tr th:only-of-type {\n",
       "        vertical-align: middle;\n",
       "    }\n",
       "\n",
       "    .dataframe tbody tr th {\n",
       "        vertical-align: top;\n",
       "    }\n",
       "\n",
       "    .dataframe thead th {\n",
       "        text-align: right;\n",
       "    }\n",
       "</style>\n",
       "<table border=\"1\" class=\"dataframe\">\n",
       "  <thead>\n",
       "    <tr style=\"text-align: right;\">\n",
       "      <th></th>\n",
       "      <th>isDGA</th>\n",
       "      <th>domain</th>\n",
       "      <th>host</th>\n",
       "      <th>subclass</th>\n",
       "    </tr>\n",
       "  </thead>\n",
       "  <tbody>\n",
       "    <tr>\n",
       "      <th>0</th>\n",
       "      <td>dga</td>\n",
       "      <td>6xzxsw3sokvg1tc752y1a6p0af</td>\n",
       "      <td>6xzxsw3sokvg1tc752y1a6p0af.com</td>\n",
       "      <td>gameoverdga</td>\n",
       "    </tr>\n",
       "    <tr>\n",
       "      <th>1</th>\n",
       "      <td>dga</td>\n",
       "      <td>glbtlxwwhbnpxs</td>\n",
       "      <td>glbtlxwwhbnpxs.ru</td>\n",
       "      <td>cryptolocker</td>\n",
       "    </tr>\n",
       "    <tr>\n",
       "      <th>2</th>\n",
       "      <td>dga</td>\n",
       "      <td>xxmamopyipbfpk</td>\n",
       "      <td>xxmamopyipbfpk.ru</td>\n",
       "      <td>cryptolocker</td>\n",
       "    </tr>\n",
       "    <tr>\n",
       "      <th>3</th>\n",
       "      <td>dga</td>\n",
       "      <td>zfd5szpi18i85wj9uy13l69rg</td>\n",
       "      <td>zfd5szpi18i85wj9uy13l69rg.net</td>\n",
       "      <td>newgoz</td>\n",
       "    </tr>\n",
       "    <tr>\n",
       "      <th>4</th>\n",
       "      <td>dga</td>\n",
       "      <td>jpqftymiuver</td>\n",
       "      <td>jpqftymiuver.ru</td>\n",
       "      <td>cryptolocker</td>\n",
       "    </tr>\n",
       "  </tbody>\n",
       "</table>\n",
       "</div>"
      ],
      "text/plain": [
       "  isDGA                      domain                            host  \\\n",
       "0   dga  6xzxsw3sokvg1tc752y1a6p0af  6xzxsw3sokvg1tc752y1a6p0af.com   \n",
       "1   dga              glbtlxwwhbnpxs               glbtlxwwhbnpxs.ru   \n",
       "2   dga              xxmamopyipbfpk               xxmamopyipbfpk.ru   \n",
       "3   dga   zfd5szpi18i85wj9uy13l69rg   zfd5szpi18i85wj9uy13l69rg.net   \n",
       "4   dga                jpqftymiuver                 jpqftymiuver.ru   \n",
       "\n",
       "       subclass  \n",
       "0   gameoverdga  \n",
       "1  cryptolocker  \n",
       "2  cryptolocker  \n",
       "3        newgoz  \n",
       "4  cryptolocker  "
      ]
     },
     "execution_count": 13,
     "metadata": {},
     "output_type": "execute_result"
    }
   ],
   "source": [
    "df.head()"
   ]
  },
  {
   "cell_type": "markdown",
   "metadata": {},
   "source": [
    "- The most important column for feature extraction is 'host' as it contains the full version of the unique domain names including the suffixes which provides additional information \n",
    "- The 'isDGA' columns is used to as target column for purpose of binary classification model"
   ]
  },
  {
   "cell_type": "markdown",
   "metadata": {},
   "source": [
    "For Binary class"
   ]
  },
  {
   "cell_type": "code",
   "execution_count": 61,
   "metadata": {},
   "outputs": [
    {
     "name": "stdout",
     "output_type": "stream",
     "text": [
      "X_train size : (127998,) | X_test size: (32000,)\n",
      "X_train size : (127998,) | X_test size: (32000,)\n"
     ]
    }
   ],
   "source": [
    "#split data - 80 : 20 Ratio \n",
    "X_val = df['host']\n",
    "y_val = df['isDGA']\n",
    "X_train, X_test, y_train, y_test = train_test_split(X_val, y_val, test_size=.2, random_state=0)\n",
    "print(f'X_train size : {X_train.shape} | X_test size: {X_test.shape}')\n",
    "print(f'X_train size : {y_train.shape} | X_test size: {y_test.shape}')"
   ]
  },
  {
   "cell_type": "code",
   "execution_count": 62,
   "metadata": {},
   "outputs": [],
   "source": [
    "with open('models/Xtrain.pkl', 'wb') as f:\n",
    "    pickle.dump(X_train, f)"
   ]
  },
  {
   "cell_type": "code",
   "execution_count": 43,
   "metadata": {},
   "outputs": [
    {
     "data": {
      "text/plain": [
       "array([1, 0, 0, ..., 1, 1, 0])"
      ]
     },
     "execution_count": 43,
     "metadata": {},
     "output_type": "execute_result"
    }
   ],
   "source": [
    "y_train_encode = encode_feature(y_train, map=mapping)\n",
    "y_test_encode = encode_feature(y_test, map=mapping_test)\n",
    "y_train_encode"
   ]
  },
  {
   "cell_type": "code",
   "execution_count": 16,
   "metadata": {},
   "outputs": [
    {
     "data": {
      "text/plain": [
       "[{0: 'dga', 1: 'legit'}]"
      ]
     },
     "execution_count": 16,
     "metadata": {},
     "output_type": "execute_result"
    }
   ],
   "source": [
    "mapping"
   ]
  },
  {
   "cell_type": "markdown",
   "metadata": {},
   "source": [
    "For multi-class"
   ]
  },
  {
   "cell_type": "code",
   "execution_count": 44,
   "metadata": {},
   "outputs": [
    {
     "name": "stdout",
     "output_type": "stream",
     "text": [
      "2 - z\n",
      "1 - f\n",
      "1 - d\n",
      "2 - 5\n",
      "1 - s\n",
      "1 - p\n",
      "2 - i\n",
      "2 - 1\n",
      "2 - 8\n",
      "1 - w\n",
      "1 - j\n",
      "2 - 9\n",
      "1 - u\n",
      "1 - y\n",
      "1 - 3\n",
      "1 - l\n",
      "1 - 6\n",
      "1 - r\n",
      "1 - g\n",
      "1 - .\n",
      "1 - n\n",
      "1 - e\n",
      "1 - t\n"
     ]
    }
   ],
   "source": [
    "test_token = X_train[3]\n",
    "token = tokenizer(test_token)\n",
    "for i in list(dict.fromkeys(test_token)):\n",
    "  print(\"{} - {}\".format(test_token.count(i), i))"
   ]
  },
  {
   "cell_type": "code",
   "execution_count": 45,
   "metadata": {},
   "outputs": [
    {
     "name": "stdout",
     "output_type": "stream",
     "text": [
      "\n",
      "- Count Vectorizer (Test URL) -\n",
      "\n",
      "  (0, 66)\t1\n",
      "  (0, 65)\t1\n",
      "  (0, 44)\t1\n",
      "  (0, 62)\t2\n",
      "  (0, 29)\t1\n",
      "  (0, 26)\t1\n",
      "  (0, 8)\t2\n",
      "  (0, 50)\t1\n",
      "  (0, 45)\t1\n",
      "  (0, 33)\t2\n",
      "  (0, 0)\t2\n",
      "  (0, 16)\t2\n",
      "  (0, 56)\t1\n",
      "  (0, 38)\t1\n",
      "  (0, 21)\t2\n",
      "  (0, 53)\t1\n",
      "  (0, 59)\t1\n",
      "  (0, 5)\t1\n",
      "  (0, 41)\t1\n",
      "  (0, 13)\t1\n",
      "  (0, 48)\t1\n",
      "  (0, 32)\t1\n",
      "  (0, 63)\t1\n",
      "  (0, 30)\t1\n",
      "  (0, 27)\t1\n",
      "  :\t:\n",
      "  (0, 22)\t1\n",
      "  (0, 49)\t1\n",
      "  (0, 64)\t1\n",
      "  (0, 31)\t1\n",
      "  (0, 28)\t1\n",
      "  (0, 10)\t1\n",
      "  (0, 52)\t1\n",
      "  (0, 68)\t1\n",
      "  (0, 47)\t1\n",
      "  (0, 35)\t1\n",
      "  (0, 4)\t1\n",
      "  (0, 20)\t1\n",
      "  (0, 37)\t1\n",
      "  (0, 18)\t1\n",
      "  (0, 12)\t1\n",
      "  (0, 58)\t1\n",
      "  (0, 40)\t1\n",
      "  (0, 25)\t1\n",
      "  (0, 55)\t1\n",
      "  (0, 61)\t1\n",
      "  (0, 2)\t1\n",
      "  (0, 7)\t1\n",
      "  (0, 43)\t1\n",
      "  (0, 15)\t1\n",
      "  (0, 23)\t1\n",
      "\n",
      "==================================================\n",
      "\n",
      "\n",
      "- TFIDF Vectorizer (Test URL) -\n",
      "\n",
      "  (0, 23)\t0.10721125348377948\n",
      "  (0, 15)\t0.10721125348377948\n",
      "  (0, 43)\t0.10721125348377948\n",
      "  (0, 7)\t0.10721125348377948\n",
      "  (0, 2)\t0.10721125348377948\n",
      "  (0, 61)\t0.10721125348377948\n",
      "  (0, 55)\t0.10721125348377948\n",
      "  (0, 25)\t0.10721125348377948\n",
      "  (0, 40)\t0.10721125348377948\n",
      "  (0, 58)\t0.10721125348377948\n",
      "  (0, 12)\t0.10721125348377948\n",
      "  (0, 18)\t0.10721125348377948\n",
      "  (0, 37)\t0.10721125348377948\n",
      "  (0, 20)\t0.10721125348377948\n",
      "  (0, 4)\t0.10721125348377948\n",
      "  (0, 35)\t0.10721125348377948\n",
      "  (0, 47)\t0.10721125348377948\n",
      "  (0, 68)\t0.10721125348377948\n",
      "  (0, 52)\t0.10721125348377948\n",
      "  (0, 10)\t0.10721125348377948\n",
      "  (0, 28)\t0.10721125348377948\n",
      "  (0, 31)\t0.10721125348377948\n",
      "  (0, 64)\t0.10721125348377948\n",
      "  (0, 49)\t0.10721125348377948\n",
      "  (0, 22)\t0.10721125348377948\n",
      "  :\t:\n",
      "  (0, 27)\t0.10721125348377948\n",
      "  (0, 30)\t0.10721125348377948\n",
      "  (0, 63)\t0.10721125348377948\n",
      "  (0, 32)\t0.10721125348377948\n",
      "  (0, 48)\t0.10721125348377948\n",
      "  (0, 13)\t0.10721125348377948\n",
      "  (0, 41)\t0.10721125348377948\n",
      "  (0, 5)\t0.10721125348377948\n",
      "  (0, 59)\t0.10721125348377948\n",
      "  (0, 53)\t0.10721125348377948\n",
      "  (0, 21)\t0.21442250696755896\n",
      "  (0, 38)\t0.10721125348377948\n",
      "  (0, 56)\t0.10721125348377948\n",
      "  (0, 16)\t0.21442250696755896\n",
      "  (0, 0)\t0.21442250696755896\n",
      "  (0, 33)\t0.21442250696755896\n",
      "  (0, 45)\t0.10721125348377948\n",
      "  (0, 50)\t0.10721125348377948\n",
      "  (0, 8)\t0.21442250696755896\n",
      "  (0, 26)\t0.10721125348377948\n",
      "  (0, 29)\t0.10721125348377948\n",
      "  (0, 62)\t0.21442250696755896\n",
      "  (0, 44)\t0.10721125348377948\n",
      "  (0, 65)\t0.10721125348377948\n",
      "  (0, 66)\t0.10721125348377948\n"
     ]
    }
   ],
   "source": [
    "example_cVec = CountVectorizer(tokenizer=tokenizer)\n",
    "example_X = example_cVec.fit_transform([test_token])\n",
    "\n",
    "print(\"\\n- Count Vectorizer (Test URL) -\\n\")\n",
    "print(example_X)\n",
    "\n",
    "print()\n",
    "print(\"=\" * 50)\n",
    "print()\n",
    "\n",
    "example_tVec = TfidfVectorizer(tokenizer=tokenizer)\n",
    "example_X = example_tVec.fit_transform([test_token])\n",
    "\n",
    "print(\"\\n- TFIDF Vectorizer (Test URL) -\\n\")\n",
    "print(example_X)"
   ]
  },
  {
   "cell_type": "code",
   "execution_count": 46,
   "metadata": {},
   "outputs": [
    {
     "name": "stdout",
     "output_type": "stream",
     "text": [
      "- Training Count Vectorizer -\n",
      "count vec complete.......\n",
      "- Training TF-IDF Vectorizer -\n",
      "TF-IDF vec complete.......\n"
     ]
    }
   ],
   "source": [
    "print(\"- Training Count Vectorizer -\")\n",
    "cVec = CountVectorizer(tokenizer=tokenizer)\n",
    "count_X = cVec.fit_transform(X_train)\n",
    "print('count vec complete.......')\n",
    "\n",
    "print(\"- Training TF-IDF Vectorizer -\")\n",
    "tVec = TfidfVectorizer(tokenizer=tokenizer)\n",
    "tfidf_X = tVec.fit_transform(X_train)\n",
    "print('TF-IDF vec complete.......')"
   ]
  },
  {
   "cell_type": "code",
   "execution_count": 47,
   "metadata": {},
   "outputs": [
    {
     "data": {
      "text/plain": [
       "(127998, 300680)"
      ]
     },
     "execution_count": 47,
     "metadata": {},
     "output_type": "execute_result"
    }
   ],
   "source": [
    "count_X.shape"
   ]
  },
  {
   "cell_type": "code",
   "execution_count": 21,
   "metadata": {},
   "outputs": [
    {
     "name": "stdout",
     "output_type": "stream",
     "text": [
      "- Count Vectorizer -\n",
      "- TFIDF Vectorizer -\n",
      "\n",
      "### Vectorizing Complete ###\n",
      "\n"
     ]
    }
   ],
   "source": [
    "# Test Vectorizers\n",
    "print(\"- Count Vectorizer -\")\n",
    "test_count_X = cVec.transform(X_test)\n",
    "\n",
    "print(\"- TFIDF Vectorizer -\")\n",
    "test_tfidf_X = tVec.transform(X_test)\n",
    "\n",
    "\n",
    "print(\"\\n### Vectorizing Complete ###\\n\")"
   ]
  },
  {
   "cell_type": "markdown",
   "metadata": {},
   "source": [
    "# MODEL BUILDING"
   ]
  },
  {
   "cell_type": "code",
   "execution_count": 98,
   "metadata": {},
   "outputs": [],
   "source": [
    "#ML models i would use to train my data \n",
    "models = { 'RandomForestClassifier' : RandomForestClassifier(max_depth=100, random_state=42),\n",
    "           'LogisticRegression'  : LogisticRegression(random_state=42),\n",
    "           'MLPClassifier' : MLPClassifier(random_state=42, max_iter=300),\n",
    "}"
   ]
  },
  {
   "cell_type": "code",
   "execution_count": 99,
   "metadata": {},
   "outputs": [],
   "source": [
    "label = ['dga','legit']"
   ]
  },
  {
   "cell_type": "markdown",
   "metadata": {},
   "source": [
    "Training for count vectorizer"
   ]
  },
  {
   "cell_type": "code",
   "execution_count": 100,
   "metadata": {},
   "outputs": [
    {
     "data": {
      "image/png": "[encoded data removed]",
      "text/plain": [
       "<Figure size 432x288 with 2 Axes>"
      ]
     },
     "metadata": {
      "needs_background": "light"
     },
     "output_type": "display_data"
    },
    {
     "name": "stdout",
     "output_type": "stream",
     "text": [
      "RandomForestClassifier\n",
      "   accuracy_score  f1_score  precision_score  recall_score\n",
      "0        0.960562  0.962292         0.930917      0.995857\n",
      "##################################################\n"
     ]
    },
    {
     "data": {
      "image/png": "[encoded data removed]",
      "text/plain": [
       "<Figure size 432x288 with 2 Axes>"
      ]
     },
     "metadata": {
      "needs_background": "light"
     },
     "output_type": "display_data"
    },
    {
     "name": "stdout",
     "output_type": "stream",
     "text": [
      "LogisticRegression\n",
      "   accuracy_score  f1_score  precision_score  recall_score\n",
      "0        0.990531  0.990621         0.991634       0.98961\n",
      "##################################################\n"
     ]
    },
    {
     "data": {
      "image/png": "[encoded data removed]",
      "text/plain": [
       "<Figure size 432x288 with 2 Axes>"
      ]
     },
     "metadata": {
      "needs_background": "light"
     },
     "output_type": "display_data"
    },
    {
     "name": "stdout",
     "output_type": "stream",
     "text": [
      "MLPClassifier\n",
      "   accuracy_score  f1_score  precision_score  recall_score\n",
      "0         0.99025  0.990339         0.991751       0.98893\n",
      "##################################################\n"
     ]
    }
   ],
   "source": [
    "for name, model in models.items():\n",
    "  model.fit(count_X,y_train_encode)\n",
    "  pred = model.predict(test_count_X)\n",
    "  score = accuracy_score(y_test_encode,pred)\n",
    "  recall = recall_score(y_test_encode, pred)\n",
    "  f1 = f1_score(y_test_encode, pred)\n",
    "  precision = precision_score(y_test_encode, pred)\n",
    "\n",
    "\n",
    "\n",
    "  cm = confusion_matrix(y_test_encode, pred, labels=model.classes_)\n",
    "  disp = ConfusionMatrixDisplay(confusion_matrix=cm,display_labels=label)\n",
    "  \n",
    "  disp.plot()\n",
    "  plt.tight_layout()\n",
    "  plt.show()\n",
    "  \n",
    "\n",
    "  data_frame = {'accuracy_score': score,'f1_score':f1,'precision_score':precision,\n",
    "        'recall_score':recall}\n",
    "  result_data = pd.DataFrame(data=data_frame, index=[0])\n",
    "  print(name)\n",
    "  print(result_data)\n",
    "  print('#' *50)"
   ]
  },
  {
   "cell_type": "markdown",
   "metadata": {},
   "source": [
    "Training for TFIDF vectorizer"
   ]
  },
  {
   "cell_type": "code",
   "execution_count": 101,
   "metadata": {},
   "outputs": [
    {
     "data": {
      "image/png": "[encoded data removed]",
      "text/plain": [
       "<Figure size 432x288 with 2 Axes>"
      ]
     },
     "metadata": {
      "needs_background": "light"
     },
     "output_type": "display_data"
    },
    {
     "name": "stdout",
     "output_type": "stream",
     "text": [
      "RandomForestClassifier\n",
      "   accuracy_score  f1_score  precision_score  recall_score\n",
      "0        0.916063  0.923161         0.858884      0.997835\n",
      "##################################################\n"
     ]
    },
    {
     "data": {
      "image/png": "[encoded data removed]",
      "text/plain": [
       "<Figure size 432x288 with 2 Axes>"
      ]
     },
     "metadata": {
      "needs_background": "light"
     },
     "output_type": "display_data"
    },
    {
     "name": "stdout",
     "output_type": "stream",
     "text": [
      "LogisticRegression\n",
      "   accuracy_score  f1_score  precision_score  recall_score\n",
      "0        0.978906  0.978781         0.995333      0.962771\n",
      "##################################################\n"
     ]
    },
    {
     "data": {
      "image/png": "[encoded data removed]",
      "text/plain": [
       "<Figure size 432x288 with 2 Axes>"
      ]
     },
     "metadata": {
      "needs_background": "light"
     },
     "output_type": "display_data"
    },
    {
     "name": "stdout",
     "output_type": "stream",
     "text": [
      "MLPClassifier\n",
      "   accuracy_score  f1_score  precision_score  recall_score\n",
      "0        0.982094   0.98203         0.996182      0.968275\n",
      "##################################################\n"
     ]
    }
   ],
   "source": [
    "for name, model in models.items():\n",
    "  model.fit(tfidf_X,y_train_encode)\n",
    "  pred = model.predict(test_tfidf_X)\n",
    "  score = accuracy_score(y_test_encode,pred)\n",
    "  recall = recall_score(y_test_encode, pred)\n",
    "  f1 = f1_score(y_test_encode, pred)\n",
    "  precision = precision_score(y_test_encode, pred)\n",
    "\n",
    "  cm = confusion_matrix(y_test_encode, pred, labels=model.classes_)\n",
    "  disp = ConfusionMatrixDisplay(confusion_matrix=cm,display_labels=model.classes_)\n",
    "  disp.plot()\n",
    "  plt.tight_layout()\n",
    "  plt.show()\n",
    "\n",
    "  data_frame = {'accuracy_score': score,'f1_score':f1,'precision_score':precision,\n",
    "        'recall_score':recall}\n",
    "  result_data = pd.DataFrame(data=data_frame, index=[0])\n",
    "  print(name)\n",
    "  print(result_data)\n",
    "  print('#' *50)"
   ]
  },
  {
   "cell_type": "markdown",
   "metadata": {},
   "source": [
    "Training with Random forest with TFIDF vectoriorizer"
   ]
  },
  {
   "cell_type": "code",
   "execution_count": 22,
   "metadata": {},
   "outputs": [
    {
     "data": {
      "text/plain": [
       "RandomForestClassifier(max_depth=100, random_state=42)"
      ]
     },
     "execution_count": 22,
     "metadata": {},
     "output_type": "execute_result"
    }
   ],
   "source": [
    "rf_model = RandomForestClassifier(max_depth=100, random_state=42)\n",
    "rf_model.fit(tfidf_X,y_train_encode)"
   ]
  },
  {
   "cell_type": "code",
   "execution_count": 23,
   "metadata": {},
   "outputs": [
    {
     "data": {
      "text/plain": [
       "['models/trained_rf_dga_classifier.sav']"
      ]
     },
     "execution_count": 23,
     "metadata": {},
     "output_type": "execute_result"
    }
   ],
   "source": [
    "#saving the trained model state\n",
    "import joblib \n",
    "\n",
    "file_name = 'models/trained_rf_dga_classifier.sav'\n",
    "joblib.dump(rf_model, filename=file_name)"
   ]
  }
 ],
 "metadata": {
  "interpreter": {
   "hash": "ab034c037bd8557c28318f99300cdc7be2699e5816b26be7c94ea734547c0344"
  },
  "kernelspec": {
   "display_name": "Python 3.8.10 ('DS')",
   "language": "python",
   "name": "python3"
  },
  "language_info": {
   "codemirror_mode": {
    "name": "ipython",
    "version": 3
   },
   "file_extension": ".py",
   "mimetype": "text/x-python",
   "name": "python",
   "nbconvert_exporter": "python",
   "pygments_lexer": "ipython3",
   "version": "3.8.10"
  },
  "orig_nbformat": 4
 },
 "nbformat": 4,
 "nbformat_minor": 2
}
